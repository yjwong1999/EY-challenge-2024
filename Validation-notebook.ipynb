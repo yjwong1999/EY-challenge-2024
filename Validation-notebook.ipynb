{
 "cells": [
  {
   "cell_type": "code",
   "execution_count": 1,
   "metadata": {},
   "outputs": [
    {
     "name": "stdout",
     "output_type": "stream",
     "text": [
      "The zip file ./challenge_1_submission_images.zip has been extracted to the directory challenge_1_submission_images\n"
     ]
    }
   ],
   "source": [
    "import os\n",
    "import zipfile\n",
    "\n",
    "def unzip_folder(zip_filepath, dest_dir):\n",
    "    with zipfile.ZipFile(zip_filepath, 'r') as zip_ref:\n",
    "        zip_ref.extractall(dest_dir)\n",
    "    print(f'The zip file {zip_filepath} has been extracted to the directory {dest_dir}')\n",
    "\n",
    "submission_zip = './challenge_1_submission_images.zip'\n",
    "submission_directory = 'challenge_1_submission_images'\n",
    "if not os.path.isdir(submission_directory):\n",
    "    unzip_folder(submission_zip,submission_directory)"
   ]
  },
  {
   "cell_type": "code",
   "execution_count": 2,
   "metadata": {},
   "outputs": [],
   "source": [
    "# Load the Model\n",
    "from ultralytics import YOLO\n",
    "model = YOLO('our-best-runs/detect/train/weights/best.pt')"
   ]
  },
  {
   "cell_type": "code",
   "execution_count": 3,
   "metadata": {},
   "outputs": [
    {
     "name": "stdout",
     "output_type": "stream",
     "text": [
      "challenge_1_submission_images/Submission data/Validation_Post_Event_006.jpg\n",
      "Making a prediction on  Validation_Post_Event_006.jpg\n"
     ]
    },
    {
     "name": "stderr",
     "output_type": "stream",
     "text": [
      "\n",
      "image 1/1 /home/tham/Desktop/delete/EY/challenge_1_submission_images/Submission data/Validation_Post_Event_006.jpg: 512x512 32 0s, 1 1, 13 2s, 3 3s, 4.1ms\n",
      "Speed: 0.7ms preprocess, 4.1ms inference, 1.1ms postprocess per image at shape (1, 3, 512, 512)\n",
      "Results saved to \u001b[1mruns/detect/predict\u001b[0m\n",
      "1 label saved to runs/detect/predict/labels\n",
      "\n",
      "image 1/1 /home/tham/Desktop/delete/EY/challenge_1_submission_images/Submission data/Validation_Post_Event_012.jpg: 512x512 22 0s, 2 1s, 9 2s, 1 3, 5.7ms\n",
      "Speed: 1.1ms preprocess, 5.7ms inference, 1.8ms postprocess per image at shape (1, 3, 512, 512)\n",
      "Results saved to \u001b[1mruns/detect/predict\u001b[0m\n",
      "2 labels saved to runs/detect/predict/labels\n",
      "\n",
      "image 1/1 /home/tham/Desktop/delete/EY/challenge_1_submission_images/Submission data/Validation_Post_Event_005.jpg: 512x512 30 0s, 3 2s, 4.9ms\n",
      "Speed: 0.9ms preprocess, 4.9ms inference, 1.0ms postprocess per image at shape (1, 3, 512, 512)\n",
      "Results saved to \u001b[1mruns/detect/predict\u001b[0m\n",
      "3 labels saved to runs/detect/predict/labels\n",
      "\n",
      "image 1/1 /home/tham/Desktop/delete/EY/challenge_1_submission_images/Submission data/Validation_Post_Event_002.jpg: 512x512 6 0s, 7 2s, 5.1ms\n",
      "Speed: 0.6ms preprocess, 5.1ms inference, 1.1ms postprocess per image at shape (1, 3, 512, 512)\n",
      "Results saved to \u001b[1mruns/detect/predict\u001b[0m\n",
      "4 labels saved to runs/detect/predict/labels\n",
      "\n",
      "image 1/1 /home/tham/Desktop/delete/EY/challenge_1_submission_images/Submission data/Validation_Post_Event_004.jpg: 512x512 9 0s, 3 2s, 5.4ms\n",
      "Speed: 0.7ms preprocess, 5.4ms inference, 1.2ms postprocess per image at shape (1, 3, 512, 512)\n",
      "Results saved to \u001b[1mruns/detect/predict\u001b[0m\n",
      "5 labels saved to runs/detect/predict/labels\n",
      "\n",
      "image 1/1 /home/tham/Desktop/delete/EY/challenge_1_submission_images/Submission data/Validation_Post_Event_007.jpg: 512x512 24 0s, 14 2s, 1 3, 5.8ms\n",
      "Speed: 0.8ms preprocess, 5.8ms inference, 1.1ms postprocess per image at shape (1, 3, 512, 512)\n",
      "Results saved to \u001b[1mruns/detect/predict\u001b[0m\n",
      "6 labels saved to runs/detect/predict/labels\n",
      "\n"
     ]
    },
    {
     "name": "stdout",
     "output_type": "stream",
     "text": [
      "Output files generated successfully.\n",
      "challenge_1_submission_images/Submission data/Validation_Post_Event_012.jpg\n",
      "Making a prediction on  Validation_Post_Event_012.jpg\n",
      "Output files generated successfully.\n",
      "challenge_1_submission_images/Submission data/Validation_Post_Event_005.jpg\n",
      "Making a prediction on  Validation_Post_Event_005.jpg\n",
      "Output files generated successfully.\n",
      "challenge_1_submission_images/Submission data/Validation_Post_Event_002.jpg\n",
      "Making a prediction on  Validation_Post_Event_002.jpg\n",
      "Output files generated successfully.\n",
      "challenge_1_submission_images/Submission data/Validation_Post_Event_004.jpg\n",
      "Making a prediction on  Validation_Post_Event_004.jpg\n",
      "Output files generated successfully.\n",
      "challenge_1_submission_images/Submission data/Validation_Post_Event_007.jpg\n",
      "Making a prediction on  Validation_Post_Event_007.jpg\n",
      "Output files generated successfully.\n",
      "challenge_1_submission_images/Submission data/Validation_Post_Event_009.jpg\n",
      "Making a prediction on  Validation_Post_Event_009.jpg\n"
     ]
    },
    {
     "name": "stderr",
     "output_type": "stream",
     "text": [
      "image 1/1 /home/tham/Desktop/delete/EY/challenge_1_submission_images/Submission data/Validation_Post_Event_009.jpg: 512x512 14 0s, 3 1s, 1 2, 4 3s, 5.9ms\n",
      "Speed: 0.9ms preprocess, 5.9ms inference, 1.5ms postprocess per image at shape (1, 3, 512, 512)\n",
      "Results saved to \u001b[1mruns/detect/predict\u001b[0m\n",
      "7 labels saved to runs/detect/predict/labels\n",
      "\n",
      "image 1/1 /home/tham/Desktop/delete/EY/challenge_1_submission_images/Submission data/Validation_Post_Event_010.jpg: 512x512 6 0s, 2 1s, 4 2s, 7 3s, 5.8ms\n",
      "Speed: 0.7ms preprocess, 5.8ms inference, 1.4ms postprocess per image at shape (1, 3, 512, 512)\n",
      "Results saved to \u001b[1mruns/detect/predict\u001b[0m\n",
      "8 labels saved to runs/detect/predict/labels\n",
      "\n",
      "image 1/1 /home/tham/Desktop/delete/EY/challenge_1_submission_images/Submission data/Validation_Post_Event_011.jpg: 512x512 5 0s, 2 1s, 2 2s, 5.2ms\n",
      "Speed: 1.2ms preprocess, 5.2ms inference, 1.3ms postprocess per image at shape (1, 3, 512, 512)\n",
      "Results saved to \u001b[1mruns/detect/predict\u001b[0m\n",
      "9 labels saved to runs/detect/predict/labels\n",
      "\n",
      "image 1/1 /home/tham/Desktop/delete/EY/challenge_1_submission_images/Submission data/Validation_Post_Event_003.jpg: 512x512 10 0s, 10 2s, 1 3, 5.1ms\n",
      "Speed: 0.7ms preprocess, 5.1ms inference, 2.0ms postprocess per image at shape (1, 3, 512, 512)\n",
      "Results saved to \u001b[1mruns/detect/predict\u001b[0m\n",
      "10 labels saved to runs/detect/predict/labels\n",
      "\n",
      "image 1/1 /home/tham/Desktop/delete/EY/challenge_1_submission_images/Submission data/Validation_Post_Event_008.jpg: 512x512 13 0s, 5 2s, 1 3, 5.8ms\n",
      "Speed: 0.7ms preprocess, 5.8ms inference, 1.1ms postprocess per image at shape (1, 3, 512, 512)\n",
      "Results saved to \u001b[1mruns/detect/predict\u001b[0m\n",
      "11 labels saved to runs/detect/predict/labels\n",
      "\n",
      "image 1/1 /home/tham/Desktop/delete/EY/challenge_1_submission_images/Submission data/Validation_Post_Event_001.jpg: 512x512 24 0s, 14 2s, 4.8ms\n",
      "Speed: 0.9ms preprocess, 4.8ms inference, 2.0ms postprocess per image at shape (1, 3, 512, 512)\n",
      "Results saved to \u001b[1mruns/detect/predict\u001b[0m\n",
      "12 labels saved to runs/detect/predict/labels\n"
     ]
    },
    {
     "name": "stdout",
     "output_type": "stream",
     "text": [
      "Output files generated successfully.\n",
      "challenge_1_submission_images/Submission data/Validation_Post_Event_010.jpg\n",
      "Making a prediction on  Validation_Post_Event_010.jpg\n",
      "Output files generated successfully.\n",
      "challenge_1_submission_images/Submission data/Validation_Post_Event_011.jpg\n",
      "Making a prediction on  Validation_Post_Event_011.jpg\n",
      "Output files generated successfully.\n",
      "challenge_1_submission_images/Submission data/Validation_Post_Event_003.jpg\n",
      "Making a prediction on  Validation_Post_Event_003.jpg\n",
      "Output files generated successfully.\n",
      "challenge_1_submission_images/Submission data/Validation_Post_Event_008.jpg\n",
      "Making a prediction on  Validation_Post_Event_008.jpg\n",
      "Output files generated successfully.\n",
      "challenge_1_submission_images/Submission data/Validation_Post_Event_001.jpg\n",
      "Making a prediction on  Validation_Post_Event_001.jpg\n",
      "Output files generated successfully.\n"
     ]
    }
   ],
   "source": [
    "# Decoding according to the .yaml file class names order\n",
    "decoding_of_predictions ={0: 'undamagedresidentialbuilding', 1: 'undamagedcommercialbuilding', 2: 'damagedresidentialbuilding', 3: 'damagedcommercialbuilding'}\n",
    "\n",
    "directory = 'challenge_1_submission_images/Validation_Data_JPEG'\n",
    "directory = 'challenge_1_submission_images/Submission data'\n",
    "# Directory to store outputs\n",
    "results_directory = 'Validation_Data_Results'\n",
    "\n",
    "# Create submission directory if it doesn't exist\n",
    "if not os.path.exists(results_directory):\n",
    "    os.makedirs(results_directory)\n",
    "\n",
    "# Loop through each file in the directory\n",
    "for filename in os.listdir(directory):\n",
    "    # Check if the current object is a file and ends with .jpeg\n",
    "    if os.path.isfile(os.path.join(directory, filename)) and filename.lower().endswith('.jpg'):\n",
    "        # Perform operations on the file\n",
    "        file_path = os.path.join(directory, filename)\n",
    "        print(file_path)\n",
    "        print(\"Making a prediction on \", filename)\n",
    "        results = model.predict(file_path, save=True, iou=0.5, save_txt=True, conf=0.25)\n",
    "        \n",
    "        for r in results:\n",
    "            conf_list = r.boxes.conf.cpu().numpy().tolist()\n",
    "            clss_list = r.boxes.cls.cpu().numpy().tolist()\n",
    "            original_list = clss_list\n",
    "            updated_list = []\n",
    "            for element in original_list:\n",
    "                 updated_list.append(decoding_of_predictions[int(element)])\n",
    "\n",
    "        bounding_boxes = r.boxes.xyxy.cpu().numpy()\n",
    "        confidences = conf_list\n",
    "        class_names = updated_list\n",
    "\n",
    "        # Check if bounding boxes, confidences and class names match\n",
    "        if len(bounding_boxes) != len(confidences) or len(bounding_boxes) != len(class_names):\n",
    "            print(\"Error: Number of bounding boxes, confidences, and class names should be the same.\")\n",
    "            continue\n",
    "        text_file_name = os.path.splitext(filename)[0]\n",
    "        # Creating a new .txt file for each image in the submission_directory\n",
    "        with open(os.path.join(results_directory, f\"{text_file_name}.txt\"), \"w\") as file:\n",
    "            for i in range(len(bounding_boxes)):\n",
    "                # Get coordinates of each bounding box\n",
    "                left, top, right, bottom = bounding_boxes[i]\n",
    "                # Write content to file in desired format\n",
    "                file.write(f\"{class_names[i]} {confidences[i]} {left} {top} {right} {bottom}\\n\")\n",
    "        print(\"Output files generated successfully.\")"
   ]
  },
  {
   "cell_type": "code",
   "execution_count": 4,
   "metadata": {},
   "outputs": [
    {
     "name": "stdout",
     "output_type": "stream",
     "text": [
      "Directory Validation_Data_Results has been successfully zipped into submission.\n"
     ]
    }
   ],
   "source": [
    "import shutil\n",
    "\n",
    "# Define your source directory and the destination where the zip file will be created\n",
    "source_dir = results_directory\n",
    "destination_zip = 'submission'\n",
    "\n",
    "# Create a zip file from the directory\n",
    "shutil.make_archive(destination_zip, 'zip', source_dir)\n",
    "\n",
    "print(f\"Directory {source_dir} has been successfully zipped into {destination_zip}.\")"
   ]
  },
  {
   "cell_type": "code",
   "execution_count": null,
   "metadata": {},
   "outputs": [],
   "source": []
  }
 ],
 "metadata": {
  "accelerator": "GPU",
  "colab": {
   "collapsed_sections": [
    "qCvb0-XuvYJ0",
    "St5XGxy6vhY7",
    "VcOfSMsXvpkE"
   ],
   "gpuType": "T4",
   "provenance": []
  },
  "kernelspec": {
   "display_name": "Python 3 (ipykernel)",
   "language": "python",
   "name": "python3"
  },
  "language_info": {
   "codemirror_mode": {
    "name": "ipython",
    "version": 3
   },
   "file_extension": ".py",
   "mimetype": "text/x-python",
   "name": "python",
   "nbconvert_exporter": "python",
   "pygments_lexer": "ipython3",
   "version": "3.8.10"
  }
 },
 "nbformat": 4,
 "nbformat_minor": 4
}
